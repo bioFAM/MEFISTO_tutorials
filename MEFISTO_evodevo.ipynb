{
 "cells": [
  {
   "cell_type": "markdown",
   "metadata": {},
   "source": [
    "# Identifying temporal variation in EvoDevo data with MEFISTO"
   ]
  },
  {
   "cell_type": "markdown",
   "metadata": {},
   "source": [
    "This notebook demonstrates how temporal (or spatial) covariates can be used for multimodal data integration to learn smooth latent factors using a developmental gene expression atlas comprising multiple species and organs.\n",
    "\n",
    "Please find more information about this method — *MEFISTO* — [on its website](https://biofam.github.io/MOFA2/MEFISTO) and [in the preprint](https://www.biorxiv.org/content/10.1101/2020.11.03.366674v1) by Britta Velten et al.\n",
    "\n",
    "A R version of the tutorial is available [here](https://raw.githack.com/bioFAM/MEFISTO_tutorials/master/evodevo_tutorial.html)."
   ]
  },
  {
   "cell_type": "code",
   "execution_count": 1,
   "metadata": {},
   "outputs": [
    {
     "name": "stdout",
     "output_type": "stream",
     "text": [
      "\n",
      "        #########################################################\n",
      "        ###           __  __  ____  ______                    ### \n",
      "        ###          |  \\/  |/ __ \\|  ____/\\    _             ### \n",
      "        ###          | \\  / | |  | | |__ /  \\ _| |_           ### \n",
      "        ###          | |\\/| | |  | |  __/ /\\ \\_   _|          ###\n",
      "        ###          | |  | | |__| | | / ____ \\|_|            ###\n",
      "        ###          |_|  |_|\\____/|_|/_/    \\_\\              ###\n",
      "        ###                                                   ### \n",
      "        ######################################################### \n",
      "       \n",
      " \n",
      "        \n"
     ]
    }
   ],
   "source": [
    "import numpy as np\n",
    "import pandas as pd\n",
    "from mofapy2.run.entry_point import entry_point\n",
    "import mofax\n",
    "import seaborn as sns\n",
    "\n",
    "# initialise the entry point\n",
    "ent = entry_point()"
   ]
  },
  {
   "cell_type": "markdown",
   "metadata": {},
   "source": [
    "## Load data\n",
    "\n",
    "First we will load the evodevo data containing normalized gene expression data for 5 species (groups) and 5 organs (views) as well as the developmental time information for each sample. The data as well as a pre-trained model can be downloaded [from here](https://figshare.com/s/242916198fde3353f3e6)."
   ]
  },
  {
   "cell_type": "code",
   "execution_count": 2,
   "metadata": {},
   "outputs": [],
   "source": [
    "datadir = \"data/evodevo\""
   ]
  },
  {
   "cell_type": "code",
   "execution_count": 3,
   "metadata": {},
   "outputs": [
    {
     "data": {
      "text/html": [
       "<div>\n",
       "<style scoped>\n",
       "    .dataframe tbody tr th:only-of-type {\n",
       "        vertical-align: middle;\n",
       "    }\n",
       "\n",
       "    .dataframe tbody tr th {\n",
       "        vertical-align: top;\n",
       "    }\n",
       "\n",
       "    .dataframe thead th {\n",
       "        text-align: right;\n",
       "    }\n",
       "</style>\n",
       "<table border=\"1\" class=\"dataframe\">\n",
       "  <thead>\n",
       "    <tr style=\"text-align: right;\">\n",
       "      <th></th>\n",
       "      <th>group</th>\n",
       "      <th>view</th>\n",
       "      <th>sample</th>\n",
       "      <th>feature</th>\n",
       "      <th>value</th>\n",
       "      <th>time</th>\n",
       "    </tr>\n",
       "  </thead>\n",
       "  <tbody>\n",
       "    <tr>\n",
       "      <th>1</th>\n",
       "      <td>Human</td>\n",
       "      <td>Brain</td>\n",
       "      <td>10wpc_Human</td>\n",
       "      <td>ENSG00000000457_Brain</td>\n",
       "      <td>8.573918</td>\n",
       "      <td>7</td>\n",
       "    </tr>\n",
       "    <tr>\n",
       "      <th>2</th>\n",
       "      <td>Human</td>\n",
       "      <td>Brain</td>\n",
       "      <td>10wpc_Human</td>\n",
       "      <td>ENSG00000001084_Brain</td>\n",
       "      <td>8.875957</td>\n",
       "      <td>7</td>\n",
       "    </tr>\n",
       "    <tr>\n",
       "      <th>3</th>\n",
       "      <td>Human</td>\n",
       "      <td>Brain</td>\n",
       "      <td>10wpc_Human</td>\n",
       "      <td>ENSG00000001167_Brain</td>\n",
       "      <td>11.265237</td>\n",
       "      <td>7</td>\n",
       "    </tr>\n",
       "    <tr>\n",
       "      <th>4</th>\n",
       "      <td>Human</td>\n",
       "      <td>Brain</td>\n",
       "      <td>10wpc_Human</td>\n",
       "      <td>ENSG00000001461_Brain</td>\n",
       "      <td>7.374965</td>\n",
       "      <td>7</td>\n",
       "    </tr>\n",
       "    <tr>\n",
       "      <th>5</th>\n",
       "      <td>Human</td>\n",
       "      <td>Brain</td>\n",
       "      <td>10wpc_Human</td>\n",
       "      <td>ENSG00000001561_Brain</td>\n",
       "      <td>7.311018</td>\n",
       "      <td>7</td>\n",
       "    </tr>\n",
       "    <tr>\n",
       "      <th>...</th>\n",
       "      <td>...</td>\n",
       "      <td>...</td>\n",
       "      <td>...</td>\n",
       "      <td>...</td>\n",
       "      <td>...</td>\n",
       "      <td>...</td>\n",
       "    </tr>\n",
       "    <tr>\n",
       "      <th>3193836</th>\n",
       "      <td>Human</td>\n",
       "      <td>Testis</td>\n",
       "      <td>youngMidAge_Human</td>\n",
       "      <td>ENSG00000271503_Testis</td>\n",
       "      <td>1.178014</td>\n",
       "      <td>21</td>\n",
       "    </tr>\n",
       "    <tr>\n",
       "      <th>3193837</th>\n",
       "      <td>Human</td>\n",
       "      <td>Testis</td>\n",
       "      <td>youngMidAge_Human</td>\n",
       "      <td>ENSG00000271601_Testis</td>\n",
       "      <td>1.178014</td>\n",
       "      <td>21</td>\n",
       "    </tr>\n",
       "    <tr>\n",
       "      <th>3193838</th>\n",
       "      <td>Human</td>\n",
       "      <td>Testis</td>\n",
       "      <td>youngMidAge_Human</td>\n",
       "      <td>ENSG00000272442_Testis</td>\n",
       "      <td>4.476201</td>\n",
       "      <td>21</td>\n",
       "    </tr>\n",
       "    <tr>\n",
       "      <th>3193839</th>\n",
       "      <td>Human</td>\n",
       "      <td>Testis</td>\n",
       "      <td>youngMidAge_Human</td>\n",
       "      <td>ENSG00000272886_Testis</td>\n",
       "      <td>1.178014</td>\n",
       "      <td>21</td>\n",
       "    </tr>\n",
       "    <tr>\n",
       "      <th>3193840</th>\n",
       "      <td>Human</td>\n",
       "      <td>Testis</td>\n",
       "      <td>youngMidAge_Human</td>\n",
       "      <td>ENSG00000273079_Testis</td>\n",
       "      <td>8.311393</td>\n",
       "      <td>21</td>\n",
       "    </tr>\n",
       "  </tbody>\n",
       "</table>\n",
       "<p>3193840 rows × 6 columns</p>\n",
       "</div>"
      ],
      "text/plain": [
       "         group    view             sample                 feature      value  \\\n",
       "1        Human   Brain        10wpc_Human   ENSG00000000457_Brain   8.573918   \n",
       "2        Human   Brain        10wpc_Human   ENSG00000001084_Brain   8.875957   \n",
       "3        Human   Brain        10wpc_Human   ENSG00000001167_Brain  11.265237   \n",
       "4        Human   Brain        10wpc_Human   ENSG00000001461_Brain   7.374965   \n",
       "5        Human   Brain        10wpc_Human   ENSG00000001561_Brain   7.311018   \n",
       "...        ...     ...                ...                     ...        ...   \n",
       "3193836  Human  Testis  youngMidAge_Human  ENSG00000271503_Testis   1.178014   \n",
       "3193837  Human  Testis  youngMidAge_Human  ENSG00000271601_Testis   1.178014   \n",
       "3193838  Human  Testis  youngMidAge_Human  ENSG00000272442_Testis   4.476201   \n",
       "3193839  Human  Testis  youngMidAge_Human  ENSG00000272886_Testis   1.178014   \n",
       "3193840  Human  Testis  youngMidAge_Human  ENSG00000273079_Testis   8.311393   \n",
       "\n",
       "         time  \n",
       "1           7  \n",
       "2           7  \n",
       "3           7  \n",
       "4           7  \n",
       "5           7  \n",
       "...       ...  \n",
       "3193836    21  \n",
       "3193837    21  \n",
       "3193838    21  \n",
       "3193839    21  \n",
       "3193840    21  \n",
       "\n",
       "[3193840 rows x 6 columns]"
      ]
     },
     "execution_count": 3,
     "metadata": {},
     "output_type": "execute_result"
    }
   ],
   "source": [
    "data = pd.read_csv(f\"{datadir}/evodevo.csv\", sep=\",\", index_col=0)\n",
    "data"
   ]
  },
  {
   "cell_type": "markdown",
   "metadata": {},
   "source": [
    "## Prepare and train MEFISTO"
   ]
  },
  {
   "cell_type": "markdown",
   "metadata": {},
   "source": [
    "Next we create a MOFA object with this data with the default options."
   ]
  },
  {
   "cell_type": "code",
   "execution_count": 4,
   "metadata": {},
   "outputs": [
    {
     "name": "stdout",
     "output_type": "stream",
     "text": [
      "\n",
      "\n",
      "Loaded group='Human' view='Brain' with N=23 samples and D=7696 features...\n",
      "Loaded group='Human' view='Cerebellum' with N=23 samples and D=7696 features...\n",
      "Loaded group='Human' view='Heart' with N=23 samples and D=7696 features...\n",
      "Loaded group='Human' view='Liver' with N=23 samples and D=7696 features...\n",
      "Loaded group='Human' view='Testis' with N=23 samples and D=7696 features...\n",
      "Loaded group='Mouse' view='Brain' with N=14 samples and D=7696 features...\n",
      "Loaded group='Mouse' view='Cerebellum' with N=14 samples and D=7696 features...\n",
      "Loaded group='Mouse' view='Heart' with N=14 samples and D=7696 features...\n",
      "Loaded group='Mouse' view='Liver' with N=14 samples and D=7696 features...\n",
      "Loaded group='Mouse' view='Testis' with N=14 samples and D=7696 features...\n",
      "Loaded group='Opossum' view='Brain' with N=15 samples and D=7696 features...\n",
      "Loaded group='Opossum' view='Cerebellum' with N=15 samples and D=7696 features...\n",
      "Loaded group='Opossum' view='Heart' with N=15 samples and D=7696 features...\n",
      "Loaded group='Opossum' view='Liver' with N=15 samples and D=7696 features...\n",
      "Loaded group='Opossum' view='Testis' with N=15 samples and D=7696 features...\n",
      "Loaded group='Rabbit' view='Brain' with N=15 samples and D=7696 features...\n",
      "Loaded group='Rabbit' view='Cerebellum' with N=15 samples and D=7696 features...\n",
      "Loaded group='Rabbit' view='Heart' with N=15 samples and D=7696 features...\n",
      "Loaded group='Rabbit' view='Liver' with N=15 samples and D=7696 features...\n",
      "Loaded group='Rabbit' view='Testis' with N=15 samples and D=7696 features...\n",
      "Loaded group='Rat' view='Brain' with N=16 samples and D=7696 features...\n",
      "Loaded group='Rat' view='Cerebellum' with N=16 samples and D=7696 features...\n",
      "Loaded group='Rat' view='Heart' with N=16 samples and D=7696 features...\n",
      "Loaded group='Rat' view='Liver' with N=16 samples and D=7696 features...\n",
      "Loaded group='Rat' view='Testis' with N=16 samples and D=7696 features...\n",
      "\n",
      "\n"
     ]
    }
   ],
   "source": [
    "ent.set_data_options()\n",
    "ent.set_data_df(data)"
   ]
  },
  {
   "cell_type": "markdown",
   "metadata": {},
   "source": [
    "We can now specify additional option for the model and the training. See our [basic python tutorial on MOFA](https://github.com/bioFAM/mofapy2/blob/master/mofapy2/notebooks/getting_started_python.ipynb)  for details. Here we specify, that we want to use 5 factor."
   ]
  },
  {
   "cell_type": "code",
   "execution_count": 5,
   "metadata": {},
   "outputs": [
    {
     "name": "stdout",
     "output_type": "stream",
     "text": [
      "WARNING: 'ard_factors' in model_options should be set to True if using multiple groups unless you are using MEFISTO\n",
      "\n",
      "Model options:\n",
      "- Automatic Relevance Determination prior on the factors: False\n",
      "- Automatic Relevance Determination prior on the weights: True\n",
      "- Spike-and-slab prior on the factors: False\n",
      "- Spike-and-slab prior on the weights: True\n",
      "Likelihoods:\n",
      "- View 0 (Brain): gaussian\n",
      "- View 1 (Cerebellum): gaussian\n",
      "- View 2 (Heart): gaussian\n",
      "- View 3 (Liver): gaussian\n",
      "- View 4 (Testis): gaussian\n",
      "\n",
      "\n"
     ]
    }
   ],
   "source": [
    "ent.set_model_options(factors=5)\n",
    "ent.set_train_options()"
   ]
  },
  {
   "cell_type": "markdown",
   "metadata": {},
   "source": [
    "So far, we have not yet added the time information for the samples. This is done in the next step, where we also specify options for MEFISTO. In particular, we want to align time points between species and set `warp` to True using Mouse as reference. To also infer relationships between species we set `model_groups` to True."
   ]
  },
  {
   "cell_type": "code",
   "execution_count": 6,
   "metadata": {},
   "outputs": [],
   "source": [
    "times = [data[['sample', 'time', 'group']].drop_duplicates().set_index('sample').loc[np.concatenate(ent.data_opts['samples_names'])].query('group == @g').time.values.reshape(-1, 1) for g in ent.data_opts['groups_names']]\n",
    "idx = np.where(ent.data_opts['groups_names'] == 'Mouse')"
   ]
  },
  {
   "cell_type": "code",
   "execution_count": 7,
   "metadata": {},
   "outputs": [],
   "source": [
    "idx = ent.data_opts['groups_names'].index(\"Mouse\")"
   ]
  },
  {
   "cell_type": "code",
   "execution_count": 8,
   "metadata": {},
   "outputs": [
    {
     "name": "stdout",
     "output_type": "stream",
     "text": [
      "Loaded 1 covariate(s) for each sample...\n",
      "\n",
      "\n",
      "##\n",
      "## Warping set to True: aligning the covariates across groups\n",
      "##\n"
     ]
    }
   ],
   "source": [
    "ent.set_covariates(times, covariates_names=\"time\")\n",
    "ent.set_smooth_options(warping=True, warping_ref = idx, model_groups = True)"
   ]
  },
  {
   "cell_type": "markdown",
   "metadata": {},
   "source": [
    "Now we are ready to use MEFISTO with this object and save the results in a speciefied location. As this can take up to 15min, we provide a pre-trained model below."
   ]
  },
  {
   "cell_type": "code",
   "execution_count": 9,
   "metadata": {},
   "outputs": [],
   "source": [
    "ent.build()\n",
    "# ent.run()\n",
    "# ent.save(\"evodevo_model.hdf5\")"
   ]
  },
  {
   "cell_type": "markdown",
   "metadata": {},
   "source": [
    "## Downstream analysis"
   ]
  },
  {
   "cell_type": "markdown",
   "metadata": {},
   "source": [
    "For downstream analysis we can either use R (package [MOFA2](https://github.com/bioFAM/MOFA2)) or the Python package [mofax](https://github.com/gtca/mofax). Here we will proceed in Python and first load the pre-trained model generated by the above steps."
   ]
  },
  {
   "cell_type": "code",
   "execution_count": 10,
   "metadata": {},
   "outputs": [],
   "source": [
    "m = mofax.mofa_model(f\"{datadir}/evodevo_model.hdf5\")"
   ]
  },
  {
   "cell_type": "code",
   "execution_count": 11,
   "metadata": {},
   "outputs": [
    {
     "name": "stdout",
     "output_type": "stream",
     "text": [
      "Samples: 83\n",
      "Features: 38480\n",
      "Species: Human, Mouse, Opossum, Rabbit, Rat\n",
      "Organs: Brain, Cerebellum, Heart, Liver, Testis\n",
      "\n"
     ]
    }
   ],
   "source": [
    "print(f\"\"\"\\\n",
    "Samples: {m.shape[0]}\n",
    "Features: {m.shape[1]}\n",
    "Species: {', '.join(m.groups)}\n",
    "Organs: {', '.join(m.views)}\n",
    "\"\"\")"
   ]
  },
  {
   "cell_type": "markdown",
   "metadata": {},
   "source": [
    "### Variance explained"
   ]
  },
  {
   "cell_type": "markdown",
   "metadata": {},
   "source": [
    "First, we can take a look at the variance explained by each of the inferred factors per organ and species."
   ]
  },
  {
   "cell_type": "code",
   "execution_count": 12,
   "metadata": {},
   "outputs": [
    {
     "data": {
      "image/png": "[encoded data removed]",
      "text/plain": [
       "<Figure size 432x288 with 6 Axes>"
      ]
     },
     "execution_count": 12,
     "metadata": {},
     "output_type": "execute_result"
    }
   ],
   "source": [
    "mofax.plot_r2(m, cmap=\"Blues\")"
   ]
  },
  {
   "cell_type": "markdown",
   "metadata": {},
   "source": [
    "### Visualization in the factor space"
   ]
  },
  {
   "cell_type": "markdown",
   "metadata": {},
   "source": [
    "Using the first two factors, we can project the samples into a 2-dimensional space."
   ]
  },
  {
   "cell_type": "code",
   "execution_count": 13,
   "metadata": {},
   "outputs": [
    {
     "data": {
      "text/plain": [
       "<AxesSubplot:title={'center':'group'}, xlabel='Factor1 value', ylabel='Factor2 value'>"
      ]
     },
     "execution_count": 13,
     "metadata": {},
     "output_type": "execute_result"
    },
    {
     "data": {
      "image/png": "[encoded data removed]",
      "text/plain": [
       "<Figure size 432x288 with 1 Axes>"
      ]
     },
     "metadata": {
      "needs_background": "light"
     },
     "output_type": "display_data"
    }
   ],
   "source": [
    "mofax.plot_factors_scatter(m, x=0, y=1)"
   ]
  },
  {
   "cell_type": "markdown",
   "metadata": {},
   "source": [
    "## Latent factors versus common developmental time"
   ]
  },
  {
   "cell_type": "markdown",
   "metadata": {},
   "source": [
    "We can plot the latent processes along the inferred common developmental time."
   ]
  },
  {
   "cell_type": "code",
   "execution_count": 14,
   "metadata": {},
   "outputs": [],
   "source": [
    "factors = m.get_factors()\n",
    "times_learnt = np.concatenate([np.array(m.model['cov_samples_transformed'][g]) for g in m.groups])\n",
    "times_before = np.concatenate([np.array(m.model['cov_samples'][g]) for g in m.groups])"
   ]
  },
  {
   "cell_type": "code",
   "execution_count": 15,
   "metadata": {},
   "outputs": [],
   "source": [
    "samples = np.concatenate([m.samples[i] for i in m.samples.keys()])"
   ]
  },
  {
   "cell_type": "code",
   "execution_count": 16,
   "metadata": {},
   "outputs": [
    {
     "data": {
      "text/plain": [
       "['Human', 'Mouse', 'Opossum', 'Rabbit', 'Rat']"
      ]
     },
     "execution_count": 16,
     "metadata": {},
     "output_type": "execute_result"
    }
   ],
   "source": [
    "m.groups"
   ]
  },
  {
   "cell_type": "code",
   "execution_count": 17,
   "metadata": {},
   "outputs": [
    {
     "data": {
      "text/html": [
       "<div>\n",
       "<style scoped>\n",
       "    .dataframe tbody tr th:only-of-type {\n",
       "        vertical-align: middle;\n",
       "    }\n",
       "\n",
       "    .dataframe tbody tr th {\n",
       "        vertical-align: top;\n",
       "    }\n",
       "\n",
       "    .dataframe thead th {\n",
       "        text-align: right;\n",
       "    }\n",
       "</style>\n",
       "<table border=\"1\" class=\"dataframe\">\n",
       "  <thead>\n",
       "    <tr style=\"text-align: right;\">\n",
       "      <th></th>\n",
       "      <th>Factor_0</th>\n",
       "      <th>Factor_1</th>\n",
       "      <th>Factor_2</th>\n",
       "      <th>Factor_3</th>\n",
       "      <th>Factor_4</th>\n",
       "      <th>times_learnt</th>\n",
       "      <th>times_before</th>\n",
       "      <th>species</th>\n",
       "    </tr>\n",
       "  </thead>\n",
       "  <tbody>\n",
       "    <tr>\n",
       "      <th>10wpc_Human</th>\n",
       "      <td>-1.593744</td>\n",
       "      <td>-1.351432</td>\n",
       "      <td>-0.117982</td>\n",
       "      <td>-2.379145</td>\n",
       "      <td>0.248318</td>\n",
       "      <td>7.0</td>\n",
       "      <td>7.0</td>\n",
       "      <td>Human</td>\n",
       "    </tr>\n",
       "    <tr>\n",
       "      <th>11wpc_Human</th>\n",
       "      <td>-1.436093</td>\n",
       "      <td>-1.397599</td>\n",
       "      <td>-0.020983</td>\n",
       "      <td>-2.029883</td>\n",
       "      <td>0.176616</td>\n",
       "      <td>7.0</td>\n",
       "      <td>8.0</td>\n",
       "      <td>Human</td>\n",
       "    </tr>\n",
       "    <tr>\n",
       "      <th>12wpc_Human</th>\n",
       "      <td>-1.433808</td>\n",
       "      <td>-1.822555</td>\n",
       "      <td>0.182214</td>\n",
       "      <td>-3.191192</td>\n",
       "      <td>0.581367</td>\n",
       "      <td>9.0</td>\n",
       "      <td>9.0</td>\n",
       "      <td>Human</td>\n",
       "    </tr>\n",
       "    <tr>\n",
       "      <th>13wpc_Human</th>\n",
       "      <td>-0.986568</td>\n",
       "      <td>-1.844258</td>\n",
       "      <td>0.355141</td>\n",
       "      <td>-2.173261</td>\n",
       "      <td>0.370851</td>\n",
       "      <td>9.0</td>\n",
       "      <td>10.0</td>\n",
       "      <td>Human</td>\n",
       "    </tr>\n",
       "    <tr>\n",
       "      <th>16wpc_Human</th>\n",
       "      <td>-0.926743</td>\n",
       "      <td>-1.816859</td>\n",
       "      <td>0.713284</td>\n",
       "      <td>-2.251459</td>\n",
       "      <td>0.514470</td>\n",
       "      <td>9.0</td>\n",
       "      <td>11.0</td>\n",
       "      <td>Human</td>\n",
       "    </tr>\n",
       "    <tr>\n",
       "      <th>...</th>\n",
       "      <td>...</td>\n",
       "      <td>...</td>\n",
       "      <td>...</td>\n",
       "      <td>...</td>\n",
       "      <td>...</td>\n",
       "      <td>...</td>\n",
       "      <td>...</td>\n",
       "      <td>...</td>\n",
       "    </tr>\n",
       "    <tr>\n",
       "      <th>P112_Rat</th>\n",
       "      <td>4.753750</td>\n",
       "      <td>0.466889</td>\n",
       "      <td>-3.232960</td>\n",
       "      <td>-0.512885</td>\n",
       "      <td>-0.883466</td>\n",
       "      <td>14.0</td>\n",
       "      <td>16.0</td>\n",
       "      <td>Rat</td>\n",
       "    </tr>\n",
       "    <tr>\n",
       "      <th>P14_Rat</th>\n",
       "      <td>3.549837</td>\n",
       "      <td>0.805237</td>\n",
       "      <td>1.787815</td>\n",
       "      <td>-0.559222</td>\n",
       "      <td>-0.710352</td>\n",
       "      <td>12.0</td>\n",
       "      <td>14.0</td>\n",
       "      <td>Rat</td>\n",
       "    </tr>\n",
       "    <tr>\n",
       "      <th>P3_Rat</th>\n",
       "      <td>1.631693</td>\n",
       "      <td>-0.844507</td>\n",
       "      <td>2.203644</td>\n",
       "      <td>-0.654158</td>\n",
       "      <td>-0.444942</td>\n",
       "      <td>11.0</td>\n",
       "      <td>12.0</td>\n",
       "      <td>Rat</td>\n",
       "    </tr>\n",
       "    <tr>\n",
       "      <th>P42_Rat</th>\n",
       "      <td>4.679887</td>\n",
       "      <td>0.407634</td>\n",
       "      <td>-3.140164</td>\n",
       "      <td>-0.489651</td>\n",
       "      <td>-0.901785</td>\n",
       "      <td>14.0</td>\n",
       "      <td>15.0</td>\n",
       "      <td>Rat</td>\n",
       "    </tr>\n",
       "    <tr>\n",
       "      <th>P7_Rat</th>\n",
       "      <td>2.475969</td>\n",
       "      <td>-0.413829</td>\n",
       "      <td>2.312347</td>\n",
       "      <td>-0.784788</td>\n",
       "      <td>-0.577103</td>\n",
       "      <td>11.0</td>\n",
       "      <td>13.0</td>\n",
       "      <td>Rat</td>\n",
       "    </tr>\n",
       "  </tbody>\n",
       "</table>\n",
       "<p>83 rows × 8 columns</p>\n",
       "</div>"
      ],
      "text/plain": [
       "             Factor_0  Factor_1  Factor_2  Factor_3  Factor_4  times_learnt  \\\n",
       "10wpc_Human -1.593744 -1.351432 -0.117982 -2.379145  0.248318           7.0   \n",
       "11wpc_Human -1.436093 -1.397599 -0.020983 -2.029883  0.176616           7.0   \n",
       "12wpc_Human -1.433808 -1.822555  0.182214 -3.191192  0.581367           9.0   \n",
       "13wpc_Human -0.986568 -1.844258  0.355141 -2.173261  0.370851           9.0   \n",
       "16wpc_Human -0.926743 -1.816859  0.713284 -2.251459  0.514470           9.0   \n",
       "...               ...       ...       ...       ...       ...           ...   \n",
       "P112_Rat     4.753750  0.466889 -3.232960 -0.512885 -0.883466          14.0   \n",
       "P14_Rat      3.549837  0.805237  1.787815 -0.559222 -0.710352          12.0   \n",
       "P3_Rat       1.631693 -0.844507  2.203644 -0.654158 -0.444942          11.0   \n",
       "P42_Rat      4.679887  0.407634 -3.140164 -0.489651 -0.901785          14.0   \n",
       "P7_Rat       2.475969 -0.413829  2.312347 -0.784788 -0.577103          11.0   \n",
       "\n",
       "             times_before species  \n",
       "10wpc_Human           7.0   Human  \n",
       "11wpc_Human           8.0   Human  \n",
       "12wpc_Human           9.0   Human  \n",
       "13wpc_Human          10.0   Human  \n",
       "16wpc_Human          11.0   Human  \n",
       "...                   ...     ...  \n",
       "P112_Rat             16.0     Rat  \n",
       "P14_Rat              14.0     Rat  \n",
       "P3_Rat               12.0     Rat  \n",
       "P42_Rat              15.0     Rat  \n",
       "P7_Rat               13.0     Rat  \n",
       "\n",
       "[83 rows x 8 columns]"
      ]
     },
     "execution_count": 17,
     "metadata": {},
     "output_type": "execute_result"
    }
   ],
   "source": [
    "df = pd.DataFrame(factors)\n",
    "df.columns = [\"Factor_%s\" % i for i in df.columns]\n",
    "df.index = samples\n",
    "df['times_learnt'] = times_learnt\n",
    "df['times_before'] = times_before\n",
    "df[\"species\"] = [s.split(\"_\")[1] for s in df.index.values]\n",
    "df"
   ]
  },
  {
   "cell_type": "markdown",
   "metadata": {},
   "source": [
    "Before alignment:"
   ]
  },
  {
   "cell_type": "code",
   "execution_count": 18,
   "metadata": {},
   "outputs": [
    {
     "data": {
      "text/plain": [
       "<AxesSubplot:xlabel='times_before', ylabel='Factor_0'>"
      ]
     },
     "execution_count": 18,
     "metadata": {},
     "output_type": "execute_result"
    },
    {
     "data": {
      "image/png": "[encoded data removed]",
      "text/plain": [
       "<Figure size 432x288 with 1 Axes>"
      ]
     },
     "metadata": {
      "needs_background": "light"
     },
     "output_type": "display_data"
    }
   ],
   "source": [
    "sns.scatterplot(x=\"times_before\", y=\"Factor_0\",\n",
    "                hue=\"species\", data = df)"
   ]
  },
  {
   "cell_type": "markdown",
   "metadata": {},
   "source": [
    "After alignment:"
   ]
  },
  {
   "cell_type": "code",
   "execution_count": 19,
   "metadata": {},
   "outputs": [
    {
     "data": {
      "text/plain": [
       "<AxesSubplot:xlabel='times_learnt', ylabel='Factor_0'>"
      ]
     },
     "execution_count": 19,
     "metadata": {},
     "output_type": "execute_result"
    },
    {
     "data": {
      "image/png": "[encoded data removed]",
      "text/plain": [
       "<Figure size 432x288 with 1 Axes>"
      ]
     },
     "metadata": {
      "needs_background": "light"
     },
     "output_type": "display_data"
    }
   ],
   "source": [
    "sns.scatterplot(x=\"times_learnt\", y=\"Factor_0\",\n",
    "                hue=\"species\", data = df)"
   ]
  },
  {
   "cell_type": "markdown",
   "metadata": {},
   "source": [
    "## Alignment"
   ]
  },
  {
   "cell_type": "markdown",
   "metadata": {},
   "source": [
    "We can also take a look at the learnt alignemnt."
   ]
  },
  {
   "cell_type": "code",
   "execution_count": 20,
   "metadata": {},
   "outputs": [
    {
     "data": {
      "text/plain": [
       "<AxesSubplot:xlabel='times_before', ylabel='times_learnt'>"
      ]
     },
     "execution_count": 20,
     "metadata": {},
     "output_type": "execute_result"
    },
    {
     "data": {
      "image/png": "[encoded data removed]",
      "text/plain": [
       "<Figure size 432x288 with 1 Axes>"
      ]
     },
     "metadata": {
      "needs_background": "light"
     },
     "output_type": "display_data"
    }
   ],
   "source": [
    "sns.scatterplot(x=\"times_before\", y=\"times_learnt\",\n",
    "                hue=\"species\", data = df)"
   ]
  },
  {
   "cell_type": "markdown",
   "metadata": {},
   "source": [
    "### Weights"
   ]
  },
  {
   "cell_type": "markdown",
   "metadata": {},
   "source": [
    "To gain insights into the molecular signatures underlying each factor, we can investigate the weights of each factor."
   ]
  },
  {
   "cell_type": "code",
   "execution_count": 21,
   "metadata": {},
   "outputs": [
    {
     "data": {
      "text/plain": [
       "<AxesSubplot:title={'center':'Brain'}, xlabel='factor', ylabel='feature'>"
      ]
     },
     "execution_count": 21,
     "metadata": {},
     "output_type": "execute_result"
    },
    {
     "data": {
      "image/png": "[encoded data removed]",
      "text/plain": [
       "<Figure size 432x288 with 2 Axes>"
      ]
     },
     "metadata": {
      "needs_background": "light"
     },
     "output_type": "display_data"
    }
   ],
   "source": [
    "mofax.plot_weights_dotplot(m, view = \"Brain\", yticklabels_size=10)"
   ]
  },
  {
   "cell_type": "code",
   "execution_count": 22,
   "metadata": {},
   "outputs": [
    {
     "data": {
      "text/plain": [
       "<AxesSubplot:title={'center':'Testis'}, xlabel='factor', ylabel='feature'>"
      ]
     },
     "execution_count": 22,
     "metadata": {},
     "output_type": "execute_result"
    },
    {
     "data": {
      "image/png": "[encoded data removed]",
      "text/plain": [
       "<Figure size 432x288 with 2 Axes>"
      ]
     },
     "metadata": {
      "needs_background": "light"
     },
     "output_type": "display_data"
    }
   ],
   "source": [
    "mofax.plot_weights_dotplot(m, view = \"Testis\", factors = 2, n_features = 10, yticklabels_size=10)"
   ]
  },
  {
   "cell_type": "markdown",
   "metadata": {},
   "source": [
    "## Further analyses"
   ]
  },
  {
   "cell_type": "markdown",
   "metadata": {},
   "source": [
    "Further down-stream analyses can be found in our [R tutorial](https://raw.githack.com/bioFAM/MEFISTO_tutorials/master/evodevo_tutorial.html) (e.g. interpolation, smoothness inspection, gene set enrichment analysis or inspection of group relationships and sharedness) and of course custom analysis can be performed using the inferred weights and factors."
   ]
  },
  {
   "cell_type": "code",
   "execution_count": null,
   "metadata": {},
   "outputs": [],
   "source": []
  }
 ],
 "metadata": {
  "kernelspec": {
   "display_name": "Muon (kernel)",
   "language": "python",
   "name": "muon"
  },
  "language_info": {
   "codemirror_mode": {
    "name": "ipython",
    "version": 3
   },
   "file_extension": ".py",
   "mimetype": "text/x-python",
   "name": "python",
   "nbconvert_exporter": "python",
   "pygments_lexer": "ipython3",
   "version": "3.7.9"
  }
 },
 "nbformat": 4,
 "nbformat_minor": 4
}
